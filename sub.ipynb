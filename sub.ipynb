{
 "cells": [
  {
   "cell_type": "code",
   "execution_count": 1,
   "id": "lesbian-hours",
   "metadata": {},
   "outputs": [],
   "source": [
    "import os\n",
    "import pandas as pd\n",
    "from PIL import Image\n",
    "\n",
    "import torch\n",
    "import torch.nn as nn\n",
    "import torch.nn.functional as F\n",
    "from torch.utils.data import Dataset, DataLoader\n",
    "from training.dataset import TrainDataset, TestDataset, img_transform\n",
    "\n",
    "from torchvision import transforms\n",
    "from torchvision.transforms import Resize, ToTensor, Normalize"
   ]
  },
  {
   "cell_type": "code",
   "execution_count": 2,
   "id": "waiting-finnish",
   "metadata": {},
   "outputs": [],
   "source": [
    "models = {'vgg11_v1' : '/opt/ml/code/trained_models/vgg11_batchsize128_lr001_epoch30.pt',\n",
    "          'vgg11_v2' : '/opt/ml/code/trained_models/vgg11_batchsize128_lr001_epoch7.pt',\n",
    "          'vgg11_v3' : '/opt/ml/code/trained_models/vgg11_batchsize128_lr001_epoch30CenterCrop.pt',\n",
    "          'vgg11_v4' : '/opt/ml/code/trained_models/vgg11_batchsize128_lr001_epoch30_CenterCropageAug.pt',\n",
    "          'vgg11_v5' : '/opt/ml/code/trained_models/vgg11_batchsize128_lr001_epoch60_CenterCrop_ageAug.pt',\n",
    "          'vgg11_v6' : '/opt/ml/code/trained_models/vgg11_batchsize128_lr001_epoch15_CenterCrop.pt',\n",
    "          'vgg11_v7' : '/opt/ml/code/trained_models/vgg11_batchsize128_lr001_epoch15_resize_CenterCrop.pt',\n",
    "          'vgg11_v8' : '/opt/ml/code/trained_models/vgg11_batchsize128_lr001_epoch45_resize_CenterCrop_scheduler.pt',\n",
    "          'effnetb0_v1' : '/opt/ml/code/trained_models/effnetb0_batchsize128_lr001_epoch5_resize_CenterCrop.pt',\n",
    "          'effnetb4_v1' : '/opt/ml/code/trained_models/effnetb4_batchsize128_lr001_epoch5_resize_CenterCrop.pt',\n",
    "          'effnetb4_v2' : '/opt/ml/code/trained_models/effnetb4_batchsize128_lr001_epoch40_resize_CenterCrop.pt',\n",
    "          'effnetb4_v3' : '/opt/ml/code/trained_models/effnetb4_batchsize128_lr0001_epoch40_CenterCrop_scheduler_nofreeze.pt',\n",
    "          'effnetb4_v4' : '/opt/ml/code/trained_models/effnetb4-batchsize_128-lr_0001-epoch_40-CenterCrop-scheduler-nofreeze-fix_data.pt',\n",
    "          'effnetb4_v5' : '/opt/ml/code/trained_models/effnetb4-batchsize_128-lr_0001-epoch_120-CenterCrop-scheduler-nofreeze-fix_data.pt',\n",
    "          'effnetb4_v6' : '/opt/ml/code/trained_models/effnetb4-batchsize_128-lr_0001-epoch_120-CenterCrop-scheduler-nofreeze-fix_data-drop_mask_sample0.6.pt',\n",
    "          'effnetb4_v7' : '/opt/ml/code/trained_models/effnetb4-batchsize_128-lr_0001-epoch_60-CenterCrop-scheduler-nofreeze-fix_data.pt',\n",
    "          'effnetb4_v8' : '/opt/ml/code/trained_models/effnetb4-batchsize_128-lr_0001-epoch_40-CenterCrop-scheduler-nofreeze-fix_data-novalid.pt',\n",
    "          'effnetb4_v9' : '/opt/ml/code/trained_models/effnetb4-batchsize_128-lr_0001-epoch_60-CenterCrop-scheduler-nofreeze-fix_data-focal_loss.pt',\n",
    "          'effnetb4_v10' : '/opt/ml/code/trained_models/effnetb4-batchsize_128-lr_0001-epoch_10-CenterCrop-scheduler-nofreeze-fix_data-focal_loss.pt',\n",
    "          'effnetb4_v11' : '/opt/ml/code/trained_models/effnetb4-batchsize_128-lr_0001-epoch_10-CenterCrop-scheduler-nofreeze-fix_data-focal_loss.pt',\n",
    "          'effnetb4_v12' : '/opt/ml/code/trained_models/effnetb4-batchsize_128-lr_0001-epoch_60-CenterCrop-scheduler-nofreeze-fix_data-focal_loss_gamma4.pt',\n",
    "          'effnetb4_v13' : '/opt/ml/code/trained_models/effnetb4-batchsize_128-lr_0001-epoch_60-CenterCrop-scheduler-nofreeze-fix_data-no_overlap.pt',\n",
    "          'effnetb4_v14' : '/opt/ml/code/trained_models/effnetb4-batchsize_128-lr_0001-epoch_60-CenterCrop-scheduler-nofreeze-fix_data-no_overlap-focal_loss.pt',\n",
    "          'effnetb0_v2' : '/opt/ml/code/trained_models/effnetb0-batchsize_128-lr_001-epoch_20-CenterCrop-cosin_warm_restart-nofreeze-fix_data-no_overlap.pt',\n",
    "          'effnetb0_v3' : '/opt/ml/code/trained_models/effnetb0-batchsize_128-lr_0001-epoch_20-CenterCrop-cosin_warm_restart-nofreeze-fix_data-no_overlap-focal_loss_gamma5.pt',\n",
    "          'effnetb0_v4' : '/opt/ml/code/trained_models/effnetb0-batchsize_128-lr_0001-epoch_20-CenterCrop-cosin_warm_restart-nofreeze-fix_data-no_overlap-age_aug58.pt',\n",
    "          'effnetb0_v5' : '/opt/ml/code/trained_models/effnetb0-batchsize_128-lr_0001-epoch_20-resize-CenterCrop-cosin_warm_restart-nofreeze-fix_data-no_overlap-age_aug58.pt',\n",
    "          'effnetb0_v6' : '/opt/ml/code/trained_models/effnetb0-batchsize_128-lr_0001-epoch_20-CenterCrop-cosin_warm_restart-nofreeze-fix_data-no_overlap-age_aug58-Hflip05.pt',\n",
    "          'effnetb0_v7' : '/opt/ml/code/trained_models/effnetb0-batchsize_128-lr_0001-epoch_20-CenterCrop-cosin_warm_restart-nofreeze-fix_data-no_overlap-age_aug58-Hflip05-rotate10.pt',\n",
    "          'effnetb0_v8' : '/opt/ml/code/trained_models/effnetb0-batchsize_128-lr_0001-epoch_20-CenterCrop-cosin_warm_restart-nofreeze-fix_data-no_overlap-age_aug58-Hflip05resize.pt',\n",
    "          'effnetb0_v9' : '/opt/ml/code/trained_models/effnetb0-batchsize_128-lr_0001-epoch_20-CenterCrop400_250-cosin_warm_restart-nofreeze-fix_data-no_overlap-age_aug58-Hflip05-resize224.pt',\n",
    "          'effnetb0_v10' : '/opt/ml/code/trained_models/effnetb0-batchsize_128-lr_0001-epoch_20-CenterCrop400_250-cosin_warm_restart-nofreeze-fix_data-no_overlap-age_aug58-Hflip05.pt',\n",
    "          'effnetb0_v11' : '/opt/ml/code/trained_models/effnetb0-batchsize_128-lr_0001-epoch_20-CenterCrop400_250-cosin_warm_restart-nofreeze-fix_data-no_overlap-age_aug58-Hflip05-weighted_sampler.pt',\n",
    "          'effnetb0_v12' : '/opt/ml/code/trained_models/effnetb0-batchsize_128-lr_0001-epoch_20-cosin_warm_restart-nofreeze-fix_data-no_overlap-age_aug58-Hflip05.pt',\n",
    "          'effnetb0_v13' : '/opt/ml/code/trained_models/effnetb0-batchsize_128-lr_0001-epoch_40-cosin_warm_restart-nofreeze-fix_data-no_overlap-age_aug58-Hflip05-center_crop500250-LS.pt',\n",
    "          'effnetb0_v14' : '/opt/ml/code/trained_models/effnetb0-batchsize_128-lr_0001-epoch_40-cosin_warm_restart-nofreeze-fix_data-no_overlap-age_aug58-Hflip05-center_crop500250-LS_alpha02.pt',\n",
    "          'effnetb0_v15' : '/opt/ml/code/trained_models/effnetb0-batchsize_128-lr_0001-epoch_20-cosin_warm_restart-nofreeze-fix_data-no_overlap-age_aug58-Hflip05-center_crop500250-LS_alpha04.pt',\n",
    "          'effnetb0_v16' : '/opt/ml/code/trained_models/effnetb0-batchsize_128-lr_0001-epoch_15-cosin_warm_restart-nofreeze-fix_data-no_overlap-age_aug58-Hflip05-center_crop500250-LS_alpha06.pt'}\n",
    "          \n",
    "model_to_use = 'effnetb0_v16'"
   ]
  },
  {
   "cell_type": "code",
   "execution_count": 3,
   "id": "thorough-kernel",
   "metadata": {},
   "outputs": [],
   "source": [
    "test_dir = '/opt/ml/input/data/eval'\n",
    "sub_dir = '/opt/ml/code/submission/'\n",
    "# meta 데이터와 이미지 경로를 불러옵니다.\n",
    "submission = pd.read_csv(os.path.join(test_dir, 'info.csv'))\n",
    "image_dir = os.path.join(test_dir, 'images')\n",
    "\n",
    "\n",
    "\n",
    "\n",
    "\n"
   ]
  },
  {
   "cell_type": "code",
   "execution_count": 4,
   "id": "adopted-berkeley",
   "metadata": {},
   "outputs": [],
   "source": [
    "# Test Dataset 클래스 객체를 생성하고 DataLoader를 만듭니다.\n",
    "image_paths = [os.path.join(image_dir, img_id) for img_id in submission.ImageID]\n",
    "transform = img_transform(train=False)"
   ]
  },
  {
   "cell_type": "code",
   "execution_count": 5,
   "id": "guided-sailing",
   "metadata": {},
   "outputs": [],
   "source": [
    "dataset = TestDataset(image_paths, transform)\n",
    "\n",
    "loader = DataLoader(\n",
    "    dataset,\n",
    "    shuffle=False,\n",
    "    num_workers = 4\n",
    ")"
   ]
  },
  {
   "cell_type": "code",
   "execution_count": 6,
   "id": "driven-clinic",
   "metadata": {},
   "outputs": [
    {
     "name": "stdout",
     "output_type": "stream",
     "text": [
      "haha\n"
     ]
    }
   ],
   "source": [
    "# 모델을 정의합니다. (학습한 모델이 있다면 torch.load로 모델을 불러주세요!)\n",
    "\n",
    "\n",
    "\n",
    "device = torch.device('cuda')\n",
    "model = torch.load(models[model_to_use]).to(device)\n",
    "\n",
    "model.eval()\n",
    "print('haha')"
   ]
  },
  {
   "cell_type": "code",
   "execution_count": 7,
   "id": "superior-royal",
   "metadata": {},
   "outputs": [
    {
     "name": "stdout",
     "output_type": "stream",
     "text": [
      "test inference is done!\n"
     ]
    }
   ],
   "source": [
    "# 모델이 테스트 데이터셋을 예측하고 결과를 저장합니다.\n",
    "all_predictions = []\n",
    "for images in loader:\n",
    "    with torch.no_grad():\n",
    "        images = images.to(device)\n",
    "        pred = model(images)\n",
    "        pred = pred.argmax(dim=-1)\n",
    "        all_predictions.extend(pred.cpu().numpy())\n",
    "submission['ans'] = all_predictions\n",
    "\n",
    "# 제출할 파일을 저장합니다.\n",
    "sub_name = os.path.basename(models[model_to_use]).rstrip('.pt')\n",
    "submission.to_csv(os.path.join(sub_dir, sub_name + '.csv'), index=False)\n",
    "print('test inference is done!')"
   ]
  },
  {
   "cell_type": "code",
   "execution_count": null,
   "id": "centered-peoples",
   "metadata": {},
   "outputs": [],
   "source": []
  }
 ],
 "metadata": {
  "kernelspec": {
   "display_name": "Python 3",
   "language": "python",
   "name": "python3"
  },
  "language_info": {
   "codemirror_mode": {
    "name": "ipython",
    "version": 3
   },
   "file_extension": ".py",
   "mimetype": "text/x-python",
   "name": "python",
   "nbconvert_exporter": "python",
   "pygments_lexer": "ipython3",
   "version": "3.7.7"
  }
 },
 "nbformat": 4,
 "nbformat_minor": 5
}
