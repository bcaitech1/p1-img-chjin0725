{
 "cells": [
  {
   "cell_type": "code",
   "execution_count": 1,
   "id": "continuous-stockholm",
   "metadata": {},
   "outputs": [],
   "source": [
    "import torch\n",
    "import torch.nn as nn\n",
    "from torch.optim import Adam\n",
    "from torch.optim.lr_scheduler import ReduceLROnPlateau\n",
    "from torchvision import transforms\n",
    "from torchvision.models import vgg11\n",
    "from torch.utils.data import Dataset, DataLoader,random_split\n",
    "import numpy as np\n",
    "\n",
    "from dataset import TrainDataset, TestDataset, img_transform, TrainDatasetAgeAugmentation\n",
    "from avgMeter import AverageMeter\n",
    "\n",
    "import copy\n",
    "import random\n",
    "import os \n",
    "\n",
    "torch.manual_seed(0)\n",
    "torch.cuda.manual_seed(0)\n",
    "np.random.seed(0)\n",
    "random.seed(0)\n",
    "\n"
   ]
  },
  {
   "cell_type": "code",
   "execution_count": 2,
   "id": "bronze-black",
   "metadata": {},
   "outputs": [],
   "source": [
    "transform = img_transform()\n"
   ]
  },
  {
   "cell_type": "code",
   "execution_count": 3,
   "id": "heated-mills",
   "metadata": {},
   "outputs": [],
   "source": [
    "train_root = '/opt/ml/input/data/train/images'\n",
    "test_root = '/opt/ml/input/data/eval'\n"
   ]
  },
  {
   "cell_type": "code",
   "execution_count": 4,
   "id": "fleet-galaxy",
   "metadata": {},
   "outputs": [],
   "source": [
    "data = TrainDataset(train_root, input_size = 224, transform = transform)"
   ]
  },
  {
   "cell_type": "code",
   "execution_count": 5,
   "id": "invisible-validity",
   "metadata": {},
   "outputs": [],
   "source": [
    "train, val = random_split(data, [int(len(data)*0.8), len(data) - int(len(data)*0.8)])"
   ]
  },
  {
   "cell_type": "code",
   "execution_count": 6,
   "id": "rotary-semester",
   "metadata": {},
   "outputs": [],
   "source": [
    "batch_size = 128\n",
    "lr = 0.001\n",
    "num_epochs = 60\n",
    "model_name = 'vgg11_batchsize' + str(batch_size) + '_lr' + str(lr).split('.')[1] + '_epoch' + str(num_epochs) + '_CenterCrop' + '_scheduler' + '_nofreeze'\n",
    "log_dir = '/opt/ml/code/log/' + model_name + '.txt' \n",
    "save_dir = '/opt/ml/code/trained_models/' + model_name + '.pt'"
   ]
  },
  {
   "cell_type": "code",
   "execution_count": 7,
   "id": "global-drill",
   "metadata": {},
   "outputs": [
    {
     "name": "stdout",
     "output_type": "stream",
     "text": [
      "vgg11_batchsize128_lr001_epoch60_CenterCrop_scheduler_nofreeze\n"
     ]
    }
   ],
   "source": [
    "print(model_name)"
   ]
  },
  {
   "cell_type": "code",
   "execution_count": 8,
   "id": "latter-payroll",
   "metadata": {},
   "outputs": [
    {
     "name": "stdout",
     "output_type": "stream",
     "text": [
      "/opt/ml/code/trained_models/vgg11_batchsize128_lr001_epoch60_CenterCrop_scheduler_nofreeze.pt\n"
     ]
    }
   ],
   "source": [
    "print(save_dir)"
   ]
  },
  {
   "cell_type": "code",
   "execution_count": 9,
   "id": "opening-fifty",
   "metadata": {},
   "outputs": [],
   "source": [
    "train_loader = DataLoader(train, batch_size=batch_size, num_workers = 4, pin_memory=True, shuffle=True)\n",
    "valid_loader = DataLoader(val, batch_size=batch_size, num_workers = 4, pin_memory=True, shuffle=False)"
   ]
  },
  {
   "cell_type": "code",
   "execution_count": 10,
   "id": "impressed-harmony",
   "metadata": {},
   "outputs": [
    {
     "data": {
      "text/plain": [
       "VGG(\n",
       "  (features): Sequential(\n",
       "    (0): Conv2d(3, 64, kernel_size=(3, 3), stride=(1, 1), padding=(1, 1))\n",
       "    (1): ReLU(inplace=True)\n",
       "    (2): MaxPool2d(kernel_size=2, stride=2, padding=0, dilation=1, ceil_mode=False)\n",
       "    (3): Conv2d(64, 128, kernel_size=(3, 3), stride=(1, 1), padding=(1, 1))\n",
       "    (4): ReLU(inplace=True)\n",
       "    (5): MaxPool2d(kernel_size=2, stride=2, padding=0, dilation=1, ceil_mode=False)\n",
       "    (6): Conv2d(128, 256, kernel_size=(3, 3), stride=(1, 1), padding=(1, 1))\n",
       "    (7): ReLU(inplace=True)\n",
       "    (8): Conv2d(256, 256, kernel_size=(3, 3), stride=(1, 1), padding=(1, 1))\n",
       "    (9): ReLU(inplace=True)\n",
       "    (10): MaxPool2d(kernel_size=2, stride=2, padding=0, dilation=1, ceil_mode=False)\n",
       "    (11): Conv2d(256, 512, kernel_size=(3, 3), stride=(1, 1), padding=(1, 1))\n",
       "    (12): ReLU(inplace=True)\n",
       "    (13): Conv2d(512, 512, kernel_size=(3, 3), stride=(1, 1), padding=(1, 1))\n",
       "    (14): ReLU(inplace=True)\n",
       "    (15): MaxPool2d(kernel_size=2, stride=2, padding=0, dilation=1, ceil_mode=False)\n",
       "    (16): Conv2d(512, 512, kernel_size=(3, 3), stride=(1, 1), padding=(1, 1))\n",
       "    (17): ReLU(inplace=True)\n",
       "    (18): Conv2d(512, 512, kernel_size=(3, 3), stride=(1, 1), padding=(1, 1))\n",
       "    (19): ReLU(inplace=True)\n",
       "    (20): MaxPool2d(kernel_size=2, stride=2, padding=0, dilation=1, ceil_mode=False)\n",
       "  )\n",
       "  (avgpool): AdaptiveAvgPool2d(output_size=(7, 7))\n",
       "  (classifier): Sequential(\n",
       "    (0): Linear(in_features=25088, out_features=4096, bias=True)\n",
       "    (1): ReLU(inplace=True)\n",
       "    (2): Dropout(p=0.5, inplace=False)\n",
       "    (3): Linear(in_features=4096, out_features=4096, bias=True)\n",
       "    (4): ReLU(inplace=True)\n",
       "    (5): Dropout(p=0.5, inplace=False)\n",
       "    (6): Linear(in_features=4096, out_features=18, bias=True)\n",
       "  )\n",
       ")"
      ]
     },
     "execution_count": 10,
     "metadata": {},
     "output_type": "execute_result"
    }
   ],
   "source": [
    "model = vgg11(True)\n",
    "model.classifier[6] = nn.Linear(in_features=4096, out_features=18, bias=True)\n",
    "model.cuda()"
   ]
  },
  {
   "cell_type": "code",
   "execution_count": 11,
   "id": "eastern-speaker",
   "metadata": {},
   "outputs": [],
   "source": [
    "# for param in model.features.parameters():\n",
    "#     param.requires_grad = False"
   ]
  },
  {
   "cell_type": "code",
   "execution_count": 12,
   "id": "numerous-cigarette",
   "metadata": {},
   "outputs": [],
   "source": [
    "criterion = nn.CrossEntropyLoss()\n",
    "optimizer = Adam(model.parameters(), lr=lr)\n",
    "scheduler = ReduceLROnPlateau(optimizer, mode = 'min', factor = 0.1, patience = 5)"
   ]
  },
  {
   "cell_type": "code",
   "execution_count": null,
   "id": "regulated-inflation",
   "metadata": {},
   "outputs": [
    {
     "name": "stdout",
     "output_type": "stream",
     "text": [
      "epoch [  1/ 60] | Train Loss 0.6847 | Train Acc 0.8125 | Valid Loss 1.0994 | Valid Acc 0.6312\n",
      "epoch [  2/ 60] | Train Loss 0.3754 | Train Acc 0.8750 | Valid Loss 0.6133 | Valid Acc 0.8003\n",
      "epoch [  3/ 60] | Train Loss 0.2901 | Train Acc 0.9375 | Valid Loss 0.3997 | Valid Acc 0.8698\n"
     ]
    }
   ],
   "source": [
    "best_val_acc = 0.0\n",
    "best_model_wts = copy.deepcopy(model.state_dict())\n",
    "\n",
    "with open(log_dir, 'w') as log:\n",
    "    for epoch in range(num_epochs):\n",
    "        for iter, (img, label) in enumerate(train_loader):\n",
    "            optimizer.zero_grad()\n",
    "\n",
    "            img, label = img.float().cuda(), label.cuda()\n",
    "\n",
    "            pred_logit = model(img)\n",
    "\n",
    "            loss = criterion(pred_logit, label)\n",
    "\n",
    "            loss.backward()\n",
    "            optimizer.step()\n",
    "\n",
    "            pred_label = pred_logit.argmax(-1)\n",
    "            acc = (pred_label == label).sum().float() / img.size(0)\n",
    "\n",
    "            train_loss = loss.item()\n",
    "            train_acc = acc\n",
    "            \n",
    "            \n",
    "        valid_loss, valid_acc = AverageMeter(), AverageMeter()\n",
    "                \n",
    "        for img, label in valid_loader:\n",
    "            img, label = img.float().cuda(), label.cuda()\n",
    "\n",
    "            with torch.no_grad():\n",
    "                pred_logit = model(img)\n",
    "\n",
    "\n",
    "            loss = criterion(pred_logit, label)\n",
    "\n",
    "            pred_label = pred_logit.argmax(-1)\n",
    "            acc = (pred_label == label).sum().float() / img.size(0)\n",
    "\n",
    "            valid_loss.update(loss.item(), len(img))\n",
    "            valid_acc.update(acc, len(img))\n",
    "        \n",
    "        valid_loss = valid_loss.avg\n",
    "        valid_acc = valid_acc.avg\n",
    "        \n",
    "        print(\"epoch [%3d/%3d] | Train Loss %.4f | Train Acc %.4f | Valid Loss %.4f | Valid Acc %.4f\" %\n",
    "            (epoch+1, num_epochs, train_loss, train_acc, valid_loss, valid_acc))\n",
    "        \n",
    "        if valid_acc > best_val_acc:\n",
    "            best_val_loss = valid_acc\n",
    "            best_model_wts = copy.deepcopy(model.state_dict())\n",
    "            \n",
    "        scheduler.step(valid_loss)\n",
    "        \n",
    "        # Train Log Writing\n",
    "#         log.write('%d,%.4f,%.4f,%.4f,%.4f\\n'%(iter, train_loss, train_acc, valid_loss, valid_acc))\n",
    "        log.write(\"epoch [%3d/%3d] | Train Loss %.4f | Train Acc %.4f | Valid Loss %.4f | Valid Acc %.4f \\n\" %\n",
    "            (epoch+1, num_epochs, train_loss, train_acc, valid_loss, valid_acc))        "
   ]
  },
  {
   "cell_type": "code",
   "execution_count": null,
   "id": "outer-thunder",
   "metadata": {},
   "outputs": [],
   "source": [
    "model.__class__.__name__"
   ]
  },
  {
   "cell_type": "code",
   "execution_count": null,
   "id": "arabic-portuguese",
   "metadata": {},
   "outputs": [],
   "source": [
    "model.load_state_dict(best_model_wts)\n",
    "torch.save(model, save_dir)"
   ]
  }
 ],
 "metadata": {
  "kernelspec": {
   "display_name": "Python 3",
   "language": "python",
   "name": "python3"
  },
  "language_info": {
   "codemirror_mode": {
    "name": "ipython",
    "version": 3
   },
   "file_extension": ".py",
   "mimetype": "text/x-python",
   "name": "python",
   "nbconvert_exporter": "python",
   "pygments_lexer": "ipython3",
   "version": "3.7.7"
  }
 },
 "nbformat": 4,
 "nbformat_minor": 5
}
